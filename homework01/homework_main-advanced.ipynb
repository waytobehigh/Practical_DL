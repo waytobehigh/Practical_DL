{
 "cells": [
  {
   "cell_type": "markdown",
   "metadata": {},
   "source": [
    "# Homework: Not So Basic Artificial Neural Networks"
   ]
  },
  {
   "cell_type": "markdown",
   "metadata": {},
   "source": [
    "Your task is to implement a simple framework for convolutional neural networks training. While convolutional neural networks is a subject of lecture 3, we expect that there are a lot of students who are familiar with the topic.\n",
    "\n",
    "In order to successfully pass this homework, you will have to:\n",
    "\n",
    "- Implement all the blocks in `homework_modules.ipynb` (esp `Conv2d` and `MaxPool2d` layers). Good implementation should pass all the tests in `homework_test_modules.ipynb`.\n",
    "- Settle with a bit of math in `homework_differentiation.ipynb`\n",
    "- Train a CNN that has at least one `Conv2d` layer, `MaxPool2d` layer and `BatchNormalization` layer and achieves at least 97% accuracy on MNIST test set.\n",
    "\n",
    "Feel free to use `homework_main-basic.ipynb` for debugging or as source of code snippets. "
   ]
  },
  {
   "cell_type": "markdown",
   "metadata": {},
   "source": [
    "Note, that this homework requires sending **multiple** files, please do not forget to include all the files when sending to TA. The list of files:\n",
    "- This notebook with cnn trained\n",
    "- `homework_modules.ipynb`\n",
    "- `homework_differentiation.ipynb`"
   ]
  },
  {
   "cell_type": "code",
   "execution_count": 1,
   "metadata": {},
   "outputs": [],
   "source": [
    "%matplotlib inline\n",
    "from time import time, sleep\n",
    "import numpy as np\n",
    "import matplotlib.pyplot as plt\n",
    "from tqdm import tqdm_notebook\n",
    "from IPython import display"
   ]
  },
  {
   "cell_type": "code",
   "execution_count": 2,
   "metadata": {},
   "outputs": [],
   "source": [
    "# (re-)load layers\n",
    "%run homework_modules.ipynb"
   ]
  },
  {
   "cell_type": "code",
   "execution_count": 3,
   "metadata": {},
   "outputs": [],
   "source": [
    "# batch generator\n",
    "def get_batches(dataset, batch_size):\n",
    "    X, Y = dataset\n",
    "    n_samples = X.shape[0]\n",
    "        \n",
    "    # Shuffle at the start of epoch\n",
    "    indices = np.arange(n_samples)\n",
    "    np.random.shuffle(indices)\n",
    "    \n",
    "    for start in range(0, n_samples, batch_size):\n",
    "        end = min(start + batch_size, n_samples)\n",
    "        \n",
    "        batch_idx = indices[start:end]\n",
    "    \n",
    "        yield X[batch_idx], Y[batch_idx]"
   ]
  },
  {
   "cell_type": "code",
   "execution_count": 4,
   "metadata": {},
   "outputs": [
    {
     "name": "stdout",
     "output_type": "stream",
     "text": [
      "Downloading train-images-idx3-ubyte.gz\n",
      "Downloading train-labels-idx1-ubyte.gz\n",
      "Downloading t10k-images-idx3-ubyte.gz\n",
      "Downloading t10k-labels-idx1-ubyte.gz\n"
     ]
    }
   ],
   "source": [
    "import mnist\n",
    "from sklearn.preprocessing import OneHotEncoder\n",
    "\n",
    "ohe = OneHotEncoder(sparse=False)\n",
    "\n",
    "def preprocess_input(samples):\n",
    "    if samples.ndim > 2:\n",
    "        return np.expand_dims(samples, axis=1)\n",
    "    else:\n",
    "        if hasattr(ohe, 'feature_indices_'):\n",
    "            return ohe.transform(samples.reshape(-1, 1))\n",
    "        else:\n",
    "            return ohe.fit_transform(samples.reshape(-1, 1))\n",
    "\n",
    "X_train, y_train, X_val, y_val, X_test, y_test = map(preprocess_input, mnist.load_dataset())"
   ]
  },
  {
   "cell_type": "code",
   "execution_count": 5,
   "metadata": {},
   "outputs": [],
   "source": [
    "n_samples, n_channels, height, width = X_train.shape"
   ]
  },
  {
   "cell_type": "code",
   "execution_count": 6,
   "metadata": {},
   "outputs": [],
   "source": [
    "def show_learning_curve(log):\n",
    "    display.clear_output()\n",
    "    \n",
    "    plt.plot(np.arange(len(log)), log)\n",
    "    plt.xlabel('n_iterations')\n",
    "    plt.ylabel('loss')\n",
    "    plt.title('Learning curve')\n",
    "    plt.show()\n",
    "    \n",
    "    print('Current loss:', loss)"
   ]
  },
  {
   "cell_type": "code",
   "execution_count": 7,
   "metadata": {},
   "outputs": [],
   "source": [
    "model = Sequential()\n",
    "model.add(Conv2d(n_channels, 16, 3))\n",
    "model.add(MaxPool2d(2))\n",
    "model.add(ReLU())\n",
    "model.add(Conv2d(16, 32, 3))\n",
    "model.add(MaxPool2d(2))\n",
    "model.add(Flatten())\n",
    "model.add(BatchNormalization())\n",
    "model.add(ReLU())\n",
    "model.add(Linear(32 * height // 4 * width // 4, 64))\n",
    "model.add(ReLU())\n",
    "model.add(Linear(64, 10))\n",
    "model.add(SoftMax())\n",
    "\n",
    "criterion = ClassNLLCriterionUnstable()"
   ]
  },
  {
   "cell_type": "code",
   "execution_count": 8,
   "metadata": {},
   "outputs": [],
   "source": [
    "from sklearn.metrics import accuracy_score\n",
    "\n",
    "def compute_accuracy(y_true, y_pred):\n",
    "    return accuracy_score(np.argmax(y_true, axis=1), np.argmax(y_pred, axis=1))"
   ]
  },
  {
   "cell_type": "code",
   "execution_count": 9,
   "metadata": {},
   "outputs": [],
   "source": [
    "log = []"
   ]
  },
  {
   "cell_type": "code",
   "execution_count": 10,
   "metadata": {},
   "outputs": [
    {
     "data": {
      "image/png": "[encoded data removed]",
      "text/plain": [
       "<matplotlib.figure.Figure at 0x113674080>"
      ]
     },
     "metadata": {},
     "output_type": "display_data"
    },
    {
     "name": "stdout",
     "output_type": "stream",
     "text": [
      "Current loss: 0.024672888299262178\n",
      "0.967\n"
     ]
    }
   ],
   "source": [
    "n_epochs = 1\n",
    "batch_size = 128\n",
    "\n",
    "adam_config = {\n",
    "    'learning_rate': 0.001,\n",
    "    'beta1': 0.9,\n",
    "    'beta2': 0.999,\n",
    "    'epsilon': 10e-7\n",
    "}\n",
    "sgd_config = {\n",
    "    'learning_rate': 0.01,\n",
    "    'momentum': 0.9\n",
    "}\n",
    "optimizer_state = {}\n",
    "\n",
    "\n",
    "\n",
    "for _ in range(n_epochs):\n",
    "    for X_batch, y_batch in get_batches((X_train, y_train), batch_size):\n",
    "        model.zeroGradParameters()\n",
    "        \n",
    "        preds = model.forward(X_batch)\n",
    "        loss = criterion.forward(preds, y_batch)\n",
    "\n",
    "        grads = criterion.backward(preds, y_batch)\n",
    "        model.backward(X_batch, grads)\n",
    "        \n",
    "        sgd_momentum(model.getParameters(), model.getGradParameters(), sgd_config, optimizer_state)\n",
    "        print('Iteration passed')\n",
    "        log.append(loss)\n",
    "        \n",
    "    show_learning_curve(log)\n",
    "    print(compute_accuracy(y_val[:1000], model.forward(X_val[:1000])))"
   ]
  },
  {
   "cell_type": "markdown",
   "metadata": {},
   "source": [
    "Print here your accuracy on test set. It should be >97%. Don't forget to switch the network in 'evaluate' mode"
   ]
  },
  {
   "cell_type": "code",
   "execution_count": 13,
   "metadata": {},
   "outputs": [],
   "source": [
    "model.evaluate()"
   ]
  },
  {
   "cell_type": "code",
   "execution_count": 14,
   "metadata": {},
   "outputs": [
    {
     "data": {
      "text/plain": [
       "0.9769"
      ]
     },
     "execution_count": 14,
     "metadata": {},
     "output_type": "execute_result"
    }
   ],
   "source": [
    "compute_accuracy(y_test, model.forward(X_test))"
   ]
  }
 ],
 "metadata": {
  "kernelspec": {
   "display_name": "Python 3",
   "language": "python",
   "name": "python3"
  },
  "language_info": {
   "codemirror_mode": {
    "name": "ipython",
    "version": 3
   },
   "file_extension": ".py",
   "mimetype": "text/x-python",
   "name": "python",
   "nbconvert_exporter": "python",
   "pygments_lexer": "ipython3",
   "version": "3.6.4"
  }
 },
 "nbformat": 4,
 "nbformat_minor": 1
}
