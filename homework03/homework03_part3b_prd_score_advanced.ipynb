{
 "cells": [
  {
   "cell_type": "markdown",
   "metadata": {},
   "source": [
    "Original paper: https://arxiv.org/abs/1806.00035"
   ]
  },
  {
   "cell_type": "markdown",
   "metadata": {},
   "source": [
    "# 0. Read real and generated images#"
   ]
  },
  {
   "cell_type": "code",
   "execution_count": 1,
   "metadata": {},
   "outputs": [],
   "source": [
    "import math\n",
    "import numpy as np\n",
    "import matplotlib.pyplot as plt\n",
    "import matplotlib.lines as mlines\n",
    "import matplotlib"
   ]
  },
  {
   "cell_type": "code",
   "execution_count": 2,
   "metadata": {},
   "outputs": [],
   "source": [
    "CHANNEL_NUM = 3\n",
    "PICTURE_SIZE = 36\n"
   ]
  },
  {
   "cell_type": "code",
   "execution_count": 3,
   "metadata": {},
   "outputs": [],
   "source": [
    "class ParticleDataset():\n",
    "    def __init__(self, file):\n",
    "        self.data = np.load(file)\n",
    "        self.image = self.data['Pictures'].reshape(-1, CHANNEL_NUM*PICTURE_SIZE*PICTURE_SIZE)\n",
    "\n",
    "    def __len__(self):\n",
    "        return len(self.image)\n",
    "\n",
    "    def __getitem__(self, i):\n",
    "        return {\n",
    "            \"Pictures\": self.image[i],\n",
    "        }"
   ]
  },
  {
   "cell_type": "code",
   "execution_count": 4,
   "metadata": {},
   "outputs": [],
   "source": [
    "real_data = ParticleDataset('real.npz')\n",
    "vae_data = ParticleDataset('vae.npz')\n",
    "gan_data = ParticleDataset('gan.npz')"
   ]
  },
  {
   "cell_type": "markdown",
   "metadata": {},
   "source": [
    "Make sure that the values of real and generated data are of the same order - it is important for cooperative binarizing"
   ]
  },
  {
   "cell_type": "code",
   "execution_count": 5,
   "metadata": {},
   "outputs": [
    {
     "name": "stdout",
     "output_type": "stream",
     "text": [
      "0.0 1.0\n",
      "0.000192523 0.9997811\n",
      "0.0 1.0\n"
     ]
    }
   ],
   "source": [
    "print (np.min(real_data.image), np.max(real_data.image))\n",
    "print (np.min(gan_data.image), np.max(gan_data.image))\n",
    "print (np.min(vae_data.image), np.max(vae_data.image))"
   ]
  },
  {
   "cell_type": "markdown",
   "metadata": {},
   "source": [
    "# 1. Binarize# "
   ]
  },
  {
   "cell_type": "markdown",
   "metadata": {},
   "source": [
    "To understand how real and generated objects are close to each other, we need to choose a space of features in which we look these objects at"
   ]
  },
  {
   "cell_type": "markdown",
   "metadata": {},
   "source": [
    "We go the easiest way and take pixels' values as features."
   ]
  },
  {
   "cell_type": "code",
   "execution_count": 6,
   "metadata": {},
   "outputs": [],
   "source": [
    "from sklearn.cluster import KMeans, MiniBatchKMeans\n",
    "import math\n",
    "## function which map object to probability distribution ##\n",
    "\n",
    "def get_clusters(real_data, generated_data, number_of_bins=25):\n",
    "    data = np.concatenate((real_data, generated_data))\n",
    "    \n",
    "    kmeans = MiniBatchKMeans(number_of_bins)\n",
    "    clusters = kmeans.fit_predict(data)\n",
    "    \n",
    "    real_clusters = clusters[:real_data.shape[0]]\n",
    "    gen_clusters = clusters[real_data.shape[0]:]\n",
    "    \n",
    "    return real_clusters, gen_clusters\n",
    "\n",
    "def plot_densities(real_clusters, gen_clusters, number_of_bins=25):\n",
    "    plt.hist(real_clusters, bins=number_of_bins, density=True, label=\"real\",  alpha=0.5)\n",
    "    plt.hist(gen_clusters, bins=number_of_bins, density=True, label=\"gen\",  alpha=0.5)\n",
    "    plt.title('Real and generated data distribution')\n",
    "    plt.xlabel('Cluster')\n",
    "    plt.ylabel('Density')\n",
    "    plt.legend()\n",
    "    plt.show()\n",
    "\n",
    "def bin_counts (real_data, generated_data, number_of_bins=25):\n",
    "    # binirize real and generated data, plot histogram and found density function\n",
    "    real_clusters, gen_clusters = get_clusters(real_data, generated_data, number_of_bins)\n",
    "    \n",
    "    real_density = np.histogram(real_clusters, bins=number_of_bins, range=(0, number_of_bins),density=True)[0]\n",
    "    gen_density = np.histogram(gen_clusters, bins=number_of_bins, range=(0, number_of_bins) ,density=True)[0]\n",
    "    \n",
    "    return real_density, gen_density"
   ]
  },
  {
   "cell_type": "code",
   "execution_count": 7,
   "metadata": {},
   "outputs": [],
   "source": [
    "n_objects = min(len(real_data),\n",
    "                len(gan_data),\n",
    "                len(vae_data))\n",
    "\n",
    "real_imgs = real_data.image[np.random.choice(len(real_data), n_objects, replace=False)]\n",
    "gan_imgs = gan_data.image[np.random.choice(len(gan_data), n_objects, replace=False)]\n",
    "vae_imgs = vae_data.image[np.random.choice(len(vae_data), n_objects, replace=False)]"
   ]
  },
  {
   "cell_type": "code",
   "execution_count": 8,
   "metadata": {},
   "outputs": [
    {
     "data": {
      "image/png": "[encoded data removed]",
      "text/plain": [
       "<Figure size 432x288 with 1 Axes>"
      ]
     },
     "metadata": {
      "needs_background": "light"
     },
     "output_type": "display_data"
    }
   ],
   "source": [
    "real_clusters, gen_clusters = get_clusters(real_imgs, gan_imgs)\n",
    "plot_densities(real_clusters, gen_clusters)"
   ]
  },
  {
   "cell_type": "code",
   "execution_count": 9,
   "metadata": {},
   "outputs": [
    {
     "data": {
      "image/png": "[encoded data removed]",
      "text/plain": [
       "<Figure size 432x288 with 1 Axes>"
      ]
     },
     "metadata": {
      "needs_background": "light"
     },
     "output_type": "display_data"
    }
   ],
   "source": [
    "real_clusters, gen_clusters = get_clusters(real_imgs, vae_imgs)\n",
    "plot_densities(real_clusters, gen_clusters)"
   ]
  },
  {
   "cell_type": "markdown",
   "metadata": {},
   "source": [
    "Create $\\alpha-$ and $\\beta-$ vectors as in\n",
    "\n",
    "$\\hat{PRD}(Q,P) = \\{(\\alpha(\\lambda), \\beta(\\lambda))| \\lambda \\in \\Lambda \\}$, where $\\Lambda = \\{\\tan (\\frac{i}{m+1} \\frac{\\pi}{2}) | i = 1, 2 ... m\\}$"
   ]
  },
  {
   "cell_type": "code",
   "execution_count": 10,
   "metadata": {},
   "outputs": [],
   "source": [
    "def count_alpha_beta (real_density, gen_density, num_angles = 1000):\n",
    "    assert real_density.shape == gen_density.shape\n",
    "    alpha_vec = []\n",
    "    beta_vec = []\n",
    "    angles = np.linspace(1e-6, np.pi/2 - 1e-6, num=num_angles)\n",
    "    \n",
    "    for l in np.tan(angles):\n",
    "        alpha_vec.append(np.sum(np.minimum(real_density * l, gen_density)))\n",
    "        beta_vec.append(np.sum(np.minimum(real_density, gen_density / l)))\n",
    "        \n",
    "    alpha_vec = np.array(alpha_vec)\n",
    "    beta_vec = np.array(beta_vec)\n",
    "    \n",
    "    return alpha_vec, beta_vec"
   ]
  },
  {
   "cell_type": "markdown",
   "metadata": {},
   "source": [
    "For stability, take the average of several repetitions"
   ]
  },
  {
   "cell_type": "code",
   "execution_count": 11,
   "metadata": {},
   "outputs": [],
   "source": [
    "def count_prd(reals, gens, repeat_number = 10):\n",
    "    vectors = [count_alpha_beta(reals, gens) for i in range(repeat_number)]\n",
    "    vectors = np.array(vectors).mean(axis=0)\n",
    "    print (vectors.shape)\n",
    "    return vectors"
   ]
  },
  {
   "cell_type": "markdown",
   "metadata": {},
   "source": [
    "## 2. Apply it##"
   ]
  },
  {
   "cell_type": "code",
   "execution_count": 12,
   "metadata": {},
   "outputs": [],
   "source": [
    "a, b = bin_counts(real_imgs, vae_imgs)\n",
    "c, d = bin_counts(real_imgs, gan_imgs)"
   ]
  },
  {
   "cell_type": "markdown",
   "metadata": {},
   "source": [
    "## 3. Make vectors for plot and plot ##"
   ]
  },
  {
   "cell_type": "code",
   "execution_count": 13,
   "metadata": {},
   "outputs": [
    {
     "name": "stdout",
     "output_type": "stream",
     "text": [
      "(2, 1000)\n",
      "(2, 1000)\n"
     ]
    }
   ],
   "source": [
    "data_for_plots = count_prd(a, b)\n",
    "data_for_plots2 = count_prd(c, d)"
   ]
  },
  {
   "cell_type": "code",
   "execution_count": 14,
   "metadata": {},
   "outputs": [
    {
     "data": {
      "image/png": "[encoded data removed]",
      "text/plain": [
       "<Figure size 500x500 with 1 Axes>"
      ]
     },
     "metadata": {
      "needs_background": "light"
     },
     "output_type": "display_data"
    }
   ],
   "source": [
    "fig = plt.figure(figsize=(2.5, 2.5), dpi=200)\n",
    "fig.add_subplot(111).tick_params(axis='both', which='major', labelsize=8)\n",
    "plt.xlim([0, 1])\n",
    "plt.ylim([0, 1])\n",
    "plt.xlabel('Recall', fontsize=12)\n",
    "plt.ylabel('Precision', fontsize=12)\n",
    "plt.plot(data_for_plots[0], data_for_plots[1], label = \"VAE\")\n",
    "plt.plot(data_for_plots2[0], data_for_plots2[1], label = \"GAN\")\n",
    "plt.legend()\n",
    "plt.show()"
   ]
  },
  {
   "cell_type": "markdown",
   "metadata": {},
   "source": [
    "**What curves were obtained for the first(VAE) and the second(GAN) models? What can we say about the advantages and disadvantages of each model?**"
   ]
  },
  {
   "cell_type": "markdown",
   "metadata": {},
   "source": [
    "Seems like area under VAE curve is a bit bigger, but they still look pretty much the same. GAN is more appropriate for improving precision maintaining the level of recall, and VAE allows the opposite. Analysing the images generated it can be deduced that VAE generates steady pictures with a small pool of features, they does not differ much. Conversely, GAN generates unique images which, unfortunately, are grainy and contain a lot of artifacts."
   ]
  },
  {
   "cell_type": "markdown",
   "metadata": {
    "collapsed": true
   },
   "source": [
    "## Bonus: about features' space##\n",
    "\n",
    "It is possible to transfer the picture-> embedding, for example, using the 1st part of the Inception network as a feature extraxtor. This embedding can be used for bin counts also"
   ]
  },
  {
   "cell_type": "code",
   "execution_count": 16,
   "metadata": {},
   "outputs": [],
   "source": [
    "# if you came here and still alive, the implementation of idea above will give you extra points =)\n"
   ]
  }
 ],
 "metadata": {
  "kernelspec": {
   "display_name": "Python 3",
   "language": "python",
   "name": "python3"
  },
  "language_info": {
   "codemirror_mode": {
    "name": "ipython",
    "version": 3
   },
   "file_extension": ".py",
   "mimetype": "text/x-python",
   "name": "python",
   "nbconvert_exporter": "python",
   "pygments_lexer": "ipython3",
   "version": "3.6.6"
  }
 },
 "nbformat": 4,
 "nbformat_minor": 2
}
